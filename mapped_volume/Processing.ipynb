{
 "cells": [
  {
   "cell_type": "markdown",
   "metadata": {},
   "source": [
    "# Setup"
   ]
  },
  {
   "cell_type": "code",
   "execution_count": 2,
   "metadata": {},
   "outputs": [],
   "source": [
    "%matplotlib inline\n",
    "import requests\n",
    "import pandas as pd\n",
    "states = ['al','ak','az','ar','ca','co','ct','dc','de','fl','ga','hi','id','il','in','ia','ks','ky','la','me','md','ma','mi','mn','ms','mo','mt','ne','nv','nh','nj','nm','ny','nc','nd','oh','ok','or','pa','ri','sc','sd','tn','tx','ut','vt','va','wa','wv','wi','wy']"
   ]
  },
  {
   "cell_type": "markdown",
   "metadata": {},
   "source": [
    "# Get Ze Data"
   ]
  },
  {
   "cell_type": "code",
   "execution_count": 14,
   "metadata": {},
   "outputs": [],
   "source": [
    "\n",
    "for state in states:\n",
    "    url = f'https://pp-projects-static.s3.amazonaws.com/itemizer/sa_1344765_{state}.csv'\n",
    "    with open(f'data/{state}.csv', 'wb') as f:\n",
    "        f.write(requests.get(url).content)"
   ]
  },
  {
   "cell_type": "code",
   "execution_count": null,
   "metadata": {},
   "outputs": [],
   "source": [
    "target_state = 'ca'\n",
    "data = pd.read_csv(f'data/{target_state}.csv', low_memory=False)\n"
   ]
  },
  {
   "cell_type": "code",
   "execution_count": null,
   "metadata": {},
   "outputs": [],
   "source": [
    "subset = data[(data.entity_type=='IND')]\n",
    "top_recipients = subset.groupby(['memo_text_description']).contributor_street_1.nunique().reset_index().sort_values(\n",
    "    'contributor_street_1', ascending=False\n",
    ").head(20)\n",
    "top_recipients = top_recipients[~(top_recipients.memo_text_description.str.contains('ActBlue'))].head(10)\n",
    "# plot = top_recipients.plot(kind='bar')\n",
    "top_recipients.plot.bar(x='memo_text_description', y='contributor_street_1')\n",
    "# plot.set_xlabel='memo_text_description'\n"
   ]
  },
  {
   "cell_type": "code",
   "execution_count": 101,
   "metadata": {},
   "outputs": [
    {
     "data": {
      "text/plain": [
       "Index(['form_type', 'filer_committee_id_number', 'transaction_id',\n",
       "       'back_reference_tran_id_number', 'back_reference_sched_name',\n",
       "       'entity_type', 'contributor_organization_name', 'contributor_last_name',\n",
       "       'contributor_first_name', 'contributor_middle_name',\n",
       "       'contributor_prefix', 'contributor_suffix', 'contributor_street_1',\n",
       "       'contributor_street_2', 'contributor_city', 'contributor_state',\n",
       "       'contributor_zip_code', 'election_code', 'election_other_description',\n",
       "       'contribution_date', 'contribution_amount', 'contribution_aggregate',\n",
       "       'contribution_purpose_descrip', 'contributor_employer',\n",
       "       'contributor_occupation', 'donor_committee_fec_id',\n",
       "       'donor_committee_name', 'donor_candidate_fec_id',\n",
       "       'donor_candidate_last_name', 'donor_candidate_first_name',\n",
       "       'donor_candidate_middle_name', 'donor_candidate_prefix',\n",
       "       'donor_candidate_suffix', 'donor_candidate_office',\n",
       "       'donor_candidate_state', 'donor_candidate_district', 'conduit_name',\n",
       "       'conduit_street1', 'conduit_street2', 'conduit_city', 'conduit_state',\n",
       "       'conduit_zip_code', 'memo_code', 'memo_text_description',\n",
       "       'reference_code'],\n",
       "      dtype='object')"
      ]
     },
     "execution_count": 101,
     "metadata": {},
     "output_type": "execute_result"
    }
   ],
   "source": [
    "data.columns"
   ]
  },
  {
   "cell_type": "code",
   "execution_count": null,
   "metadata": {},
   "outputs": [],
   "source": []
  }
 ],
 "metadata": {
  "kernelspec": {
   "display_name": "Python 3",
   "language": "python",
   "name": "python3"
  },
  "language_info": {
   "codemirror_mode": {
    "name": "ipython",
    "version": 3
   },
   "file_extension": ".py",
   "mimetype": "text/x-python",
   "name": "python",
   "nbconvert_exporter": "python",
   "pygments_lexer": "ipython3",
   "version": "3.7.3"
  }
 },
 "nbformat": 4,
 "nbformat_minor": 2
}
